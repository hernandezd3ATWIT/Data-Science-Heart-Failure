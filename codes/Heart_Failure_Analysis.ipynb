{
 "cells": [
  {
   "cell_type": "markdown",
   "id": "af9968dd",
   "metadata": {},
   "source": [
    "# Early Mortality Risk in Heart-Failure Patients\n",
    "\n",
    "This data science project analyzes clinical data from heart failure patients to identify key factors associated with early mortality. Using demographic, lifestyle, and lab test variables, we explore how different conditions influence survival rates. The project also builds a predictive model to assist clinicians in quickly assessing patient risk.\n",
    "\n",
    "## Research Questions\n",
    "\n",
    "1. **Demographic Impact**: How do age and sex affect the probability of a death event?\n",
    "2. **Comorbidities & Lifestyle**: Do diabetes, anaemia, high blood pressure, or smoking significantly increase mortality risk?\n",
    "3. **Lab Biomarkers**: Which clinical measures (e.g., ejection fraction, creatinine) are most predictive of survival?\n",
    "4. **Predictive Modeling**: Can we predict a patient’s death event using features collected at admission?\n",
    "\n",
    "## Dataset\n",
    "- Source: [Kaggle - Heart Failure Clinical Records Dataset](https://www.kaggle.com/datasets/andrewmvd/heart-failure-clinical-data)\n",
    "- 299 patient records\n",
    "- 13 clinical and demographic features\n",
    "\n",
    "## Tools & Libraries\n",
    "- Python (Pandas, Matplotlib, Seaborn, Scikit-learn)\n",
    "- Jupyter Notebook\n"
   ]
  },
  {
   "cell_type": "markdown",
   "id": "39fa770c",
   "metadata": {},
   "source": []
  }
 ],
 "metadata": {
  "kernelspec": {
   "display_name": "Python 3",
   "language": "python",
   "name": "python3"
  },
  "language_info": {
   "codemirror_mode": {
    "name": "ipython",
    "version": 3
   },
   "file_extension": ".py",
   "mimetype": "text/x-python",
   "name": "python",
   "nbconvert_exporter": "python",
   "pygments_lexer": "ipython3",
   "version": "3.9.1"
  }
 },
 "nbformat": 4,
 "nbformat_minor": 5
}
